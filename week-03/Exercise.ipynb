{
 "cells": [
  {
   "cell_type": "markdown",
   "metadata": {},
   "source": [
    "## #1 Figure out how to print the current date and time. \n",
    "The solution should be in this format:  2021-08-05 11:56:30 (YYYY-MM-DD HH:MM:SS)\n",
    "\n",
    "Hint:  You're going to have to import a library"
   ]
  },
  {
   "cell_type": "code",
   "execution_count": 1,
   "metadata": {},
   "outputs": [],
   "source": [
    "import datetime\n",
    "\n",
    "print(datetime.datetime.now())\n",
    "\n",
    "\n",
    "\n",
    "# maybe find a way to round to the nearest second"
   ]
  },
  {
   "cell_type": "code",
   "execution_count": 2,
   "metadata": {},
   "outputs": [],
   "source": [
    "print(datetime.datetime.now().strftime(\"%Y-%m-%d %H:%M:%S\"))\n",
    "\n",
    "# this does without milliseconds\n",
    "\n",
    "# formats the time"
   ]
  },
  {
   "cell_type": "markdown",
   "metadata": {},
   "source": [
    "## #2 Write a function that accepts the radius of a circle and returns the area of a circle.  \n",
    "The function for the area of a circle is pi * radius squared.  "
   ]
  },
  {
   "cell_type": "code",
   "execution_count": 3,
   "metadata": {},
   "outputs": [
    {
     "name": "stdout",
     "output_type": "stream",
     "text": [
      "706.8583470577034\n"
     ]
    }
   ],
   "source": [
    "import math\n",
    "\n",
    "def area_circle(radius = 0):\n",
    "    area = math.pi * (radius**2)\n",
    "    return area\n",
    "\n",
    "\n",
    "print(area_circle(15))"
   ]
  },
  {
   "cell_type": "code",
   "execution_count": 4,
   "metadata": {},
   "outputs": [
    {
     "name": "stdout",
     "output_type": "stream",
     "text": [
      "0.0\n"
     ]
    }
   ],
   "source": [
    "print(area_circle())"
   ]
  },
  {
   "cell_type": "markdown",
   "metadata": {},
   "source": [
    "## #3 Write a function that takes a list of numbers and returns True if all number in the list are unique and returns False if the list contains duplicate numbers. \n",
    "* Hint, maybe think of using a set()\n",
    "\n",
    "Input:  input_list = [2,4,5,5,7,9]\n",
    "\n",
    "Expected Output:  False"
   ]
  },
  {
   "cell_type": "code",
   "execution_count": 5,
   "metadata": {},
   "outputs": [
    {
     "name": "stdout",
     "output_type": "stream",
     "text": [
      "False\n"
     ]
    }
   ],
   "source": [
    "input_list = [2,4,5,5,7,9]\n",
    "\n",
    "def check_dupes(num_list):\n",
    "    \n",
    "\n",
    "    temp_set = set(num_list)\n",
    "\n",
    "    no_dupe_list = list(temp_set)\n",
    "    \n",
    "    #return (len(num_list) == len(no_dupe_list))\n",
    "    \n",
    "    if (len(num_list) == len(no_dupe_list)):\n",
    "        \n",
    "        return True\n",
    "    \n",
    "    else:\n",
    "        \n",
    "        return False\n",
    "\n",
    "\n",
    "\n",
    "print(check_dupes(input_list))\n",
    "        \n",
    "\n",
    "\n",
    "\n"
   ]
  },
  {
   "cell_type": "code",
   "execution_count": 6,
   "metadata": {},
   "outputs": [
    {
     "name": "stdout",
     "output_type": "stream",
     "text": [
      "True\n"
     ]
    }
   ],
   "source": [
    "input_list=[1,2,3]\n",
    "print(check_dupes(input_list))"
   ]
  },
  {
   "cell_type": "code",
   "execution_count": 7,
   "metadata": {},
   "outputs": [
    {
     "name": "stdout",
     "output_type": "stream",
     "text": [
      "True\n"
     ]
    }
   ],
   "source": [
    "input_list=[]\n",
    "print(check_dupes(input_list))"
   ]
  },
  {
   "cell_type": "markdown",
   "metadata": {},
   "source": [
    "## #4 Write a Python program to count the number of each character of a given text of a text file.\n",
    "* Use the text file called 'lil-wayne.txt' in the data folder.  \n",
    "* Convert all the characters to uppercase first, then count them.  \n",
    "* Use a dictionary in which the keys of the dictionary are the characters, and the values are the counts of that character. \n",
    "\n",
    "Expected Result:  `{'D': 74, 'W': 63, 'A': 211, 'Y': 44, 'N': 165, 'E': 274, ' ': 522, 'M': 77, 'I': 185, 'C': 60, 'H': 122, 'L': 126, 'R': 152, 'T': 180, 'J': 8, '.': 26, '(': 12, 'B': 59, 'O': 145, 'S': 152, 'P': 39, '2': 24, '7': 7, ',': 37, '1': 28, '9': 16, '8': 6, ')': 12, '[': 14, ']': 14, 'K': 13, 'F': 44, 'G': 53, 'X': 5, 'U': 66, 'V': 20, '3': 2, '4': 4, '5': 5, '6': 3, '0': 36, '\\n': 6, '-': 6, ';': 1, '!': 1, '\"': 8, \"'\": 3, '—': 1}`"
   ]
  },
  {
   "cell_type": "code",
   "execution_count": 8,
   "metadata": {},
   "outputs": [],
   "source": [
    "path_to_file = \"data/lil-wayne.txt\"\n",
    "\n",
    "file_handle = open(path_to_file, \"r\")\n",
    "\n",
    "\n",
    "data = file_handle.read()\n",
    "\n",
    "data = data.upper()"
   ]
  },
  {
   "cell_type": "code",
   "execution_count": 9,
   "metadata": {},
   "outputs": [
    {
     "name": "stdout",
     "output_type": "stream",
     "text": [
      "DWAYNE MICHAEL CARTER JR. (BORN SEPTEMBER 27, 1982),[2] KNOWN PROFESSIONALLY AS LIL WAYNE, IS AN AMERICAN RAPPER, SINGER, SONGWRITER AND RECORD EXECUTIVE.. HE IS COMMONLY REGARDED AS ONE OF THE MOST INFLUENTIAL HIP HOP ARTISTS OF HIS GENERATION,[3] AND OFTEN CITED AS ONE OF THE GREATEST RAPPERS OF ALL TIME.[4][5] HIS CAREER BEGAN IN 1995, AT THE AGE OF 12, WHEN HE WAS SIGNED BY RAPPER BIRDMAN, JOINING CASH MONEY RECORDS AS THE YOUNGEST MEMBER OF THE LABEL.[6] FROM THEN ON, WAYNE WAS THE FLAGSHIP ARTIST OF CASH MONEY RECORDS BEFORE ENDING HIS ASSOCIATION WITH THE COMPANY IN JUNE 2018.[7]\n",
      "\n",
      "IN 1995, WAYNE WAS PUT IN A DUO WITH LABEL-MATE B.G. (AT THE TIME KNOWN AS LIL DOOGIE) AND THEY RECORDED AN ALBUM, TRUE STORY, RELEASED THAT YEAR, ALTHOUGH WAYNE (AT THE TIME KNOWN AS BABY D) ONLY APPEARED ON THREE TRACKS.[8] WAYNE AND B.G. SOON JOINED THE SOUTHERN HIP HOP GROUP HOT BOYS, WITH CASH MONEY LABEL-MATES JUVENILE AND TURK IN 1997; THEY RELEASED THEIR DEBUT ALBUM GET IT HOW U LIVE! IN OCTOBER THAT YEAR. THE HOT BOYS BECAME POPULAR FOLLOWING THE RELEASE OF THE ALBUM GUERRILLA WARFARE (1999) AND THE SONG BLING BLING.\n",
      "\n",
      "LIL WAYNES SOLO DEBUT ALBUM THA BLOCK IS HOT (1999) WAS HIS SOLO BREAKTHROUGH, AND HE REACHED HIGHER POPULARITY WITH HIS FOURTH ALBUM THA CARTER (2004) AND FIFTH ALBUM THA CARTER II (2005), AS WELL AS SEVERAL MIXTAPES AND COLLABORATIONS THROUGHOUT 2006 AND 2007. HE GAINED MORE PROMINENCE WITHIN THE MUSIC INDUSTRY WITH HIS SIXTH ALBUM THA CARTER III (2008), WITH FIRST-WEEK SALES OF OVER ONE MILLION COPIES IN THE US. THE ALBUM WON THE GRAMMY AWARD FOR BEST RAP ALBUM AND INCLUDED SUCCESSFUL SINGLES A MILLI, GOT MONEY (FEATURING T-PAIN), AND LOLLIPOP (FEATURING STATIC MAJOR)Â€”THE LATTER BEING HIS FIRST SINGLE TO REACH NUMBER ONE ON THE BILLBOARD HOT 100. IN FEBRUARY 2010, WAYNE RELEASED HIS SEVENTH STUDIO ALBUM, REBIRTH, WHICH EXPERIMENTED WITH RAP ROCK AND WAS MET WITH GENERALLY NEGATIVE REVIEWS. A MONTH LATER IN MARCH 2010, LIL WAYNE BEGAN SERVING AN 8-MONTH JAIL SENTENCE IN NEW YORK AFTER BEING CONVICTED OF CRIMINAL POSSESSION OF A WEAPON STEMMING FROM AN INCIDENT IN JULY 2007. HIS EIGHTH STUDIO ALBUM I AM NOT A HUMAN BEING (2010) WAS RELEASED DURING HIS INCARCERATION, WHILE HIS 2011 ALBUM THA CARTER IV WAS RELEASED FOLLOWING HIS RELEASE. THA CARTER IV SOLD 964,000 COPIES IN ITS FIRST WEEK IN THE UNITED STATES.[9] HIS TWELFTH STUDIO ALBUM THA CARTER V WAS RELEASED IN 2018 AFTER MULTIPLE DELAYS. WAYNES THIRTEENTH ALBUM, FUNERAL, WAS RELEASED IN EARLY 2020.[10]\n",
      "\n",
      "LIL WAYNE HAS SOLD OVER 120 MILLION RECORDS WORLDWIDE, INCLUDING MORE THAN 20 MILLION ALBUMS AND 70 MILLION DIGITAL TRACKS IN THE UNITED STATES, MAKING HIM ONE OF THE WORLDS BEST-SELLING MUSIC ARTISTS.[11][12][13] HE HAS WON FIVE GRAMMY AWARDS, 11 BET AWARDS, FOUR BILLBOARD MUSIC AWARDS, TWO MTV VIDEO MUSIC AWARDS AND EIGHT NAACP IMAGE AWARDS. ON SEPTEMBER 27, 2012, HE BECAME THE FIRST MALE ARTIST TO SURPASS ELVIS PRESLEY WITH THE MOST ENTRIES ON THE BILLBOARD HOT 100, WITH 109 SONGS.[14][15] LIL WAYNE ALSO CURRENTLY SERVES AS THE CHIEF EXECUTIVE OFFICER (CEO) OF HIS OWN LABEL, YOUNG MONEY ENTERTAINMENT.\n"
     ]
    }
   ],
   "source": [
    "print(data)"
   ]
  },
  {
   "cell_type": "code",
   "execution_count": 10,
   "metadata": {},
   "outputs": [],
   "source": [
    "word_dict = {}\n",
    "\n",
    "for character in data:\n",
    "    \n",
    "    if character not in word_dict:\n",
    "        word_dict[character] = 1\n",
    "        \n",
    "    else:\n",
    "        #word_dict[character] = word_dict[character] + 1\n",
    "        \n",
    "        word_dict[character] += 1\n",
    "        \n",
    "    "
   ]
  },
  {
   "cell_type": "code",
   "execution_count": null,
   "metadata": {},
   "outputs": [
    {
     "name": "stdout",
     "output_type": "stream",
     "text": [
      "{'D': 74, 'W': 63, 'A': 211, 'Y': 44, 'N': 165, 'E': 274, ' ': 522, 'M': 77, 'I': 185, 'C': 60, 'H': 122, 'L': 126, 'R': 152, 'T': 180, 'J': 8, '.': 26, '(': 12, 'B': 59, 'O': 145, 'S': 152, 'P': 39, '2': 24, '7': 7, ',': 37, '1': 28, '9': 16, '8': 6, ')': 12, '[': 14, ']': 14, 'K': 13, 'F': 44, 'G': 53, 'X': 5, 'U': 66, 'V': 20, '3': 2, '4': 4, '5': 5, '6': 3, '0': 36, '\\n': 6, '-': 6, ';': 1, '!': 1, 'Â': 1, '€': 1, '”': 1}\n"
     ]
    }
   ],
   "source": [
    "print(word_dict)"
   ]
  },
  {
   "cell_type": "markdown",
   "metadata": {},
   "source": [
    "# 4.5 Figure out how to sort the dictionary to find which character appears the most."
   ]
  },
  {
   "cell_type": "code",
   "execution_count": null,
   "metadata": {},
   "outputs": [],
   "source": [
    "dict_list = []\n",
    "\n",
    "def sortSecond(val):\n",
    "    return val[1]\n",
    "\n",
    "for key in word_dict:\n",
    "    \n",
    "    #dict_list.append( [key, word_dict[key]])\n",
    "    \n",
    "    dict_list.append( [word_dict[key], key])\n",
    "\n",
    "#dict_list.sort(reverse=True, key= sortSecond)\n",
    "\n",
    "dict_list.sort(reverse=True)\n",
    "\n",
    "print(dict_list)\n",
    "\n",
    "\n",
    "# switched the order of key and value to make it easier to sort\n",
    "\n",
    "\n",
    "# if I wanted to preserve the initial order of the dictionary with key first\n",
    "\n",
    "# i could use\n",
    "\n",
    "\n",
    "#def sortSecond(val):\n",
    "#    return val[1]\n",
    "\n",
    "#And pass sortSecond as the key for the sort function\n",
    "# got this from GeeksForGeeks"
   ]
  },
  {
   "cell_type": "code",
   "execution_count": null,
   "metadata": {},
   "outputs": [],
   "source": [
    "print(max(dict_list))\n",
    "\n",
    "# dict_list[0]\n",
    "\n",
    "# or could not reverse and use index -1"
   ]
  },
  {
   "cell_type": "code",
   "execution_count": null,
   "metadata": {},
   "outputs": [],
   "source": [
    "print(dict_list[0])"
   ]
  },
  {
   "cell_type": "markdown",
   "metadata": {},
   "source": [
    "## #5 Using the list below...\n",
    "* Remove the fourth number from the list.\n",
    "* Take that number you just removed and multiply the last number of the list by that number. \n",
    "* Append that number to the end of the list.\n",
    "* Print the list\n",
    "\n",
    "INPUT: [1, 1, 2, 3, 5, 8, 13, 21]\n",
    "\n",
    "EXPECTED OUTPUT:  [1, 1, 2, 5, 8, 13, 21, 63]\n",
    "\n"
   ]
  },
  {
   "cell_type": "code",
   "execution_count": null,
   "metadata": {},
   "outputs": [],
   "source": [
    "list1 = [1, 1, 2, 3, 5, 8, 13, 21]\n",
    "\n",
    "\n",
    "removed_num = list1.pop(3)\n",
    "\n",
    "print(removed_num)\n",
    "\n",
    "print(list1)"
   ]
  },
  {
   "cell_type": "code",
   "execution_count": null,
   "metadata": {},
   "outputs": [],
   "source": [
    "new_num = removed_num * list1[-1]\n",
    "\n",
    "print(new_num)"
   ]
  },
  {
   "cell_type": "code",
   "execution_count": null,
   "metadata": {},
   "outputs": [],
   "source": [
    "list1.append(new_num)\n",
    "\n",
    "print(list1)"
   ]
  },
  {
   "cell_type": "markdown",
   "metadata": {},
   "source": [
    "## #6 Using the list below, make a new list that contains only the numbers from the original list that are divisible by three.\n",
    "\n",
    "* Input:  original_list = [2, 3, 6, 8, 9, 15, 19, 21]\n",
    "* Expected new list:  [3, 6, 9, 15, 21]\n"
   ]
  },
  {
   "cell_type": "code",
   "execution_count": null,
   "metadata": {},
   "outputs": [],
   "source": [
    "original_list = [2, 3, 6, 8, 9, 15, 19, 21]\n",
    "\n",
    "\n",
    "new_list = []\n",
    "\n",
    "for item in original_list:\n",
    "    \n",
    "    if ((item %3) == 0 ):\n",
    "        new_list.append(item)\n",
    "        \n",
    "\n",
    "print(new_list)"
   ]
  },
  {
   "cell_type": "code",
   "execution_count": null,
   "metadata": {},
   "outputs": [],
   "source": [
    "#filtered = filter(lambda original_list: original_list % 3 == 0, original_list)\n",
    "#res = list(filtered)\n",
    "\n",
    "#print(res)\n",
    "\n",
    "# class example given\n"
   ]
  },
  {
   "cell_type": "markdown",
   "metadata": {},
   "source": [
    "## #7 Reverse the list below"
   ]
  },
  {
   "cell_type": "code",
   "execution_count": null,
   "metadata": {},
   "outputs": [],
   "source": [
    "original_list = [2, 3, 6, 8, 9, 15, 19, 21]\n",
    "\n",
    "# there are a couple different ways to reverse the list\n",
    "\n",
    "reversed_list = original_list[::-1]\n",
    "\n",
    "print(reversed_list)\n",
    "\n",
    "# this is probably the best way"
   ]
  },
  {
   "cell_type": "code",
   "execution_count": null,
   "metadata": {},
   "outputs": [],
   "source": [
    "#original_list.reverse()\n",
    "\n",
    "#print(original_list)\n",
    "\n",
    "# this is in place though"
   ]
  },
  {
   "cell_type": "code",
   "execution_count": null,
   "metadata": {},
   "outputs": [],
   "source": [
    "reversed_list = reversed(original_list)\n",
    "\n",
    "print(type(reversed_list))"
   ]
  },
  {
   "cell_type": "markdown",
   "metadata": {},
   "source": [
    "## #8 Using the list below, turn every item of the list into its square.  \n",
    "* Input original_list = [1, 2, 3, 4, 5, 6, 7]\n",
    "* Expected new_list:  [1, 4, 9, 16, 25, 36, 49]\n"
   ]
  },
  {
   "cell_type": "code",
   "execution_count": null,
   "metadata": {},
   "outputs": [],
   "source": [
    "original_list = [1, 2, 3, 4, 5, 6, 7]\n",
    "\n",
    "# I am assuming we want a new list\n",
    "\n",
    "\n",
    "new_list = []\n",
    "\n",
    "for item in original_list:\n",
    "    \n",
    "    square = item ** 2\n",
    "    \n",
    "    new_list.append(square)\n",
    "    \n",
    "    \n",
    "print(new_list)\n",
    "\n",
    "# could also use a list comprehension\n"
   ]
  },
  {
   "cell_type": "code",
   "execution_count": null,
   "metadata": {},
   "outputs": [],
   "source": [
    "compressed_list = [ x**2 for x in original_list]\n",
    "\n",
    "print(compressed_list)\n",
    "\n",
    "# list comprehensions"
   ]
  },
  {
   "cell_type": "code",
   "execution_count": null,
   "metadata": {},
   "outputs": [],
   "source": [
    "import numpy as np\n",
    "import pandas as pd\n",
    "\n",
    "original_list = np.array([1, 2, 3, 4, 5, 6, 7])\n",
    "\n",
    "# numpy array"
   ]
  },
  {
   "cell_type": "code",
   "execution_count": null,
   "metadata": {},
   "outputs": [],
   "source": [
    "print(original_list ** 2)\n",
    "original_list = original_list **2\n",
    "print(original_list)"
   ]
  },
  {
   "cell_type": "markdown",
   "metadata": {},
   "source": [
    "## #9  Given  two Python lists. Iterate both lists simultaneously such that list1 should display items in original order and list2 in reverse order.\n",
    "Given input:\n",
    "```\n",
    "list1 = [10, 20, 30, 40]\n",
    "list2 = [100, 200, 300, 400]\n",
    "```\n",
    "\n",
    "Expected Output:\n",
    "```\n",
    "10 400\n",
    "20 300\n",
    "30 200\n",
    "40 100\n",
    "```"
   ]
  },
  {
   "cell_type": "code",
   "execution_count": null,
   "metadata": {},
   "outputs": [],
   "source": [
    "list1 = [10, 20, 30, 40]\n",
    "list2 = [100, 200, 300, 400]\n",
    "\n",
    "# i guess we would use a loop with i and len -1 - i\n",
    "\n",
    "# this will only work when the lists are the same size though\n",
    "\n",
    "# maybe there is a more elegant way\n",
    "\n",
    "\n",
    "for i in range(len(list1)):\n",
    "    \n",
    "    print(list1[i], list2[len(list2) -1 - i])"
   ]
  },
  {
   "cell_type": "markdown",
   "metadata": {},
   "source": [
    "## #10 Remove empty strings from the list of strings.\n",
    "Input:  `list_of_strings = ['I', 'love', '', '', 'data', '', 'science', '!']`\n",
    "\n",
    "Expected Output:  `['I', 'love', 'data', 'science', '!']`"
   ]
  },
  {
   "cell_type": "code",
   "execution_count": null,
   "metadata": {},
   "outputs": [],
   "source": [
    "list_of_strings = ['I', 'love', '', '', 'data', '', 'science', '!']\n",
    "\n",
    "# easier to do out of place as doing in place leads to iteration problems\n",
    "\n",
    "new_list_of_strings = []\n",
    "\n",
    "for item in list_of_strings:\n",
    "    \n",
    "    if (item != \"\"):\n",
    "        \n",
    "        new_list_of_strings.append(item)\n",
    "        \n",
    "        \n",
    "print(new_list_of_strings)\n"
   ]
  },
  {
   "cell_type": "code",
   "execution_count": null,
   "metadata": {},
   "outputs": [],
   "source": [
    "# can use a while loop with an in conditional to do it in place\n",
    "\n",
    "\n",
    "while (\"\" in list_of_strings):\n",
    "    \n",
    "    list_of_strings.remove(\"\")\n",
    "    \n",
    "    \n",
    "print(list_of_strings)"
   ]
  },
  {
   "cell_type": "markdown",
   "metadata": {},
   "source": [
    "##  #11 Check if the value 999 exists in the dicitionary below.  If so, print true, if not print false.\n",
    "\n",
    "Input: sample_dict = {'a': 100, 'b': 999, 'c': 300}\n",
    "\n",
    "Expected Output:  True"
   ]
  },
  {
   "cell_type": "code",
   "execution_count": null,
   "metadata": {},
   "outputs": [],
   "source": [
    "sample_dict = {'a': 100, 'b': 999, 'c': 300}\n",
    "\n",
    "# could make a function\n",
    "\n",
    "\n",
    "if (999 in sample_dict.values()):\n",
    "    \n",
    "    print(True)\n",
    "    \n",
    "else:\n",
    "    \n",
    "    print(False)"
   ]
  },
  {
   "cell_type": "code",
   "execution_count": null,
   "metadata": {},
   "outputs": [],
   "source": [
    "if (0 in sample_dict.values()):\n",
    "    \n",
    "    print(True)\n",
    "    \n",
    "else:\n",
    "    \n",
    "    print(False)"
   ]
  },
  {
   "cell_type": "markdown",
   "metadata": {},
   "source": [
    "# Extra Credit"
   ]
  },
  {
   "cell_type": "markdown",
   "metadata": {},
   "source": [
    "## Using pandas, read the csv file in the data folder called `titianic.csv` and store it as a variable named `df`."
   ]
  },
  {
   "cell_type": "code",
   "execution_count": null,
   "metadata": {},
   "outputs": [],
   "source": [
    "import pandas as pd\n",
    "\n",
    "\n",
    "df = pd.read_csv('data/titanic.csv')"
   ]
  },
  {
   "cell_type": "code",
   "execution_count": null,
   "metadata": {},
   "outputs": [],
   "source": [
    "df"
   ]
  },
  {
   "cell_type": "markdown",
   "metadata": {},
   "source": [
    "## I know we didn't cover this, but figure out how to find the mean age of the age column in your dataframe. "
   ]
  },
  {
   "cell_type": "code",
   "execution_count": null,
   "metadata": {},
   "outputs": [],
   "source": [
    "df[\"age\"].mean()\n"
   ]
  },
  {
   "cell_type": "markdown",
   "metadata": {},
   "source": [
    "## What was the oldest and youngest ages on the titanic?"
   ]
  },
  {
   "cell_type": "code",
   "execution_count": null,
   "metadata": {},
   "outputs": [],
   "source": [
    "df[\"age\"].max()"
   ]
  },
  {
   "cell_type": "code",
   "execution_count": null,
   "metadata": {},
   "outputs": [],
   "source": [
    "df[\"age\"].min()"
   ]
  },
  {
   "cell_type": "markdown",
   "metadata": {},
   "source": [
    "## How many people embarked from station 'S'?"
   ]
  },
  {
   "cell_type": "code",
   "execution_count": null,
   "metadata": {},
   "outputs": [],
   "source": [
    "df[\"embarked\"].value_counts()[\"S\"]"
   ]
  },
  {
   "cell_type": "code",
   "execution_count": null,
   "metadata": {},
   "outputs": [],
   "source": []
  }
 ],
 "metadata": {
  "kernelspec": {
   "display_name": "Python 3",
   "language": "python",
   "name": "python3"
  },
  "language_info": {
   "codemirror_mode": {
    "name": "ipython",
    "version": 3
   },
   "file_extension": ".py",
   "mimetype": "text/x-python",
   "name": "python",
   "nbconvert_exporter": "python",
   "pygments_lexer": "ipython3",
   "version": "3.8.5"
  }
 },
 "nbformat": 4,
 "nbformat_minor": 4
}
