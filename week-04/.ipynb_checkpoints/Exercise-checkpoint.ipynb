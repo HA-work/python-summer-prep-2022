{
 "cells": [
  {
   "cell_type": "markdown",
   "metadata": {},
   "source": [
    "# List Overlap \n",
    "Write a program that returns a list that contains only the elements that are common between the lists (without duplicates). Make sure your program works on two lists of different sizes."
   ]
  },
  {
   "cell_type": "code",
   "execution_count": 1,
   "metadata": {},
   "outputs": [
    {
     "name": "stdout",
     "output_type": "stream",
     "text": [
      "[1, 2, 3, 5, 8, 13]\n"
     ]
    }
   ],
   "source": [
    "a = [1, 1, 2, 3, 5, 8, 13, 21, 34, 55, 89]\n",
    "b = [1, 2, 3, 4, 5, 6, 7, 8, 9, 10, 11, 12, 13]\n",
    "\n",
    "\n",
    "# use intersection for sets\n",
    "# that would be a better solution\n",
    "\n",
    "\n",
    "set_of_a = set(a)\n",
    "\n",
    "common_list = []\n",
    "\n",
    "for num in set_of_a:\n",
    "    \n",
    "    if num in b:\n",
    "        common_list.append(num)\n",
    "\n",
    "\n",
    "print(common_list)"
   ]
  },
  {
   "cell_type": "markdown",
   "metadata": {},
   "source": [
    "# Rock Paper Scissors\n",
    "\n",
    "Make a two-player Rock-Paper-Scissors game. (Hint: Ask for player plays (using input), compare them, print out a message of congratulations to the winner.)\n",
    "\n",
    "Remember the rules:\n",
    "\n",
    "* Rock beats scissors\n",
    "* Scissors beats paper\n",
    "* Paper beats rock"
   ]
  },
  {
   "cell_type": "code",
   "execution_count": 2,
   "metadata": {},
   "outputs": [
    {
     "name": "stdout",
     "output_type": "stream",
     "text": [
      "Enter rock, paper or scissors:   scissors\n",
      "Enter rock, paper or scissors:   paper\n",
      "Player 1 wins\n"
     ]
    }
   ],
   "source": [
    "# this works but the normal way is probably better\n",
    "\n",
    "options = [\"rock\", \"paper\", \"scissors\"]\n",
    "\n",
    "player_1_choice = input(\"Enter rock, paper or scissors:   \")\n",
    "\n",
    "player_2_choice = input(\"Enter rock, paper or scissors:   \")\n",
    "\n",
    "\n",
    "player_1_index = options.index(player_1_choice)\n",
    "\n",
    "player_2_index = options.index(player_2_choice)\n",
    "\n",
    "if (player_1_index == 2 and player_2_index == 0):\n",
    "    print(\"Player 2 wins\")\n",
    "\n",
    "elif (player_2_index == 2 and player_1_index == 0):\n",
    "    print(\"Player 1 wins\")\n",
    "    \n",
    "    \n",
    "elif (player_2_index == player_1_index):\n",
    "    print(\"It is a draw\") \n",
    "    \n",
    "elif (player_2_index > player_1_index):\n",
    "    print(\"Player 2 wins\") \n",
    "    \n",
    "        \n",
    "elif (player_1_index > player_2_index):\n",
    "    print(\"Player 1 wins\") "
   ]
  },
  {
   "cell_type": "code",
   "execution_count": 3,
   "metadata": {},
   "outputs": [
    {
     "name": "stdout",
     "output_type": "stream",
     "text": [
      "Enter rock, paper or scissors:   rock\n",
      "Enter rock, paper or scissors:   rock\n",
      "It is a draw\n"
     ]
    }
   ],
   "source": [
    "player_1_choice = input(\"Enter rock, paper or scissors:   \")\n",
    "\n",
    "player_2_choice = input(\"Enter rock, paper or scissors:   \")\n",
    "\n",
    "# could do some data checking and entry fixing like lower\n",
    "\n",
    "# maybe there ia a better way than doing 9 conditionals\n",
    "\n",
    "\n",
    "\n",
    "if (player_1_choice == \"rock\" and player_2_choice == \"scissors\"):\n",
    "    print(\"Player 1 wins\")\n",
    "\n",
    "elif (player_1_choice == \"paper\" and player_2_choice == \"rock\"):\n",
    "    print(\"Player 1 wins\")\n",
    "    \n",
    "elif (player_1_choice == \"scissors\" and player_2_choice == \"paper\"):\n",
    "    print(\"Player 1 wins\")\n",
    "    \n",
    "    \n",
    "    \n",
    "    \n",
    "\n",
    "elif (player_2_choice == \"rock\" and player_1_choice == \"scissors\"):\n",
    "    print(\"Player 2 wins\")\n",
    "\n",
    "elif (player_2_choice == \"paper\" and player_1_choice == \"rock\"):\n",
    "    print(\"Player 2 wins\")\n",
    "    \n",
    "elif (player_2_choice == \"scissors\" and player_1_choice == \"paper\"):\n",
    "    print(\"Player 2 wins\")\n",
    "    \n",
    "    \n",
    "    \n",
    "elif (player_2_choice == \"rock\" and player_1_choice == \"rock\"):\n",
    "    print(\"It is a draw\")\n",
    "\n",
    "elif (player_2_choice == \"paper\" and player_1_choice == \"paper\"):\n",
    "    print(\"It is a draw\")\n",
    "    \n",
    "elif (player_2_choice == \"scissors\" and player_1_choice == \"scissors\"):\n",
    "    print(\"It is a draw\")\n"
   ]
  },
  {
   "cell_type": "markdown",
   "metadata": {},
   "source": [
    "# Palindrome \n",
    "\n",
    "Ask the user for a string and print out whether this string is a palindrome or not. (A palindrome is a string that reads the same forwards and backwards.)"
   ]
  },
  {
   "cell_type": "code",
   "execution_count": 4,
   "metadata": {},
   "outputs": [
    {
     "name": "stdout",
     "output_type": "stream",
     "text": [
      "Enter a string:   racecar\n",
      "it is a palindrome\n"
     ]
    }
   ],
   "source": [
    "input_string = input(\"Enter a string:   \")\n",
    "\n",
    "\n",
    "reverse_string = input_string[::-1]\n",
    "\n",
    "if (input_string == reverse_string):\n",
    "    print(\"it is a palindrome\")\n",
    "    \n",
    "else:\n",
    "    \n",
    "    print(\"it is not a palindrome\")\n",
    "    \n",
    "    \n",
    "    \n",
    "# would be better to make this a method\n"
   ]
  },
  {
   "cell_type": "markdown",
   "metadata": {},
   "source": [
    "# Password Generator\n",
    "Write a password generator in Python. Be creative with how you generate passwords - strong passwords have a mix of lowercase letters, uppercase letters, numbers, and symbols. The passwords should be random.  Ask the user to input how long they want their password to be. "
   ]
  },
  {
   "cell_type": "code",
   "execution_count": 5,
   "metadata": {},
   "outputs": [
    {
     "name": "stdout",
     "output_type": "stream",
     "text": [
      "Enter how long you would like you password to be:   10\n",
      "RPpd&Dv3K6\n"
     ]
    }
   ],
   "source": [
    "import random\n",
    "\n",
    "chars = \"abcdefghijklmnopqrstuvwxyz01234567890ABCDEFGHIJKLMNOPQRSTUVWXYZ!@#$%^&*()?\"\n",
    "\n",
    "num_chars = int(input(\"Enter how long you would like you password to be:   \"))\n",
    "\n",
    "password = \"\"\n",
    "\n",
    "for i in range(num_chars):\n",
    "    \n",
    "    num_selected = random.randint(0, len(chars) - 1)\n",
    "    \n",
    "    password = password + chars[num_selected]\n",
    "    \n",
    "    \n",
    "print(password)\n",
    "\n",
    "# could make it do it chooses from each section\n",
    "    \n",
    "    \n",
    "# randint has an inclusive upper limit so we need to do len - 1\n",
    "\n",
    "# there is another method we can use to avoid this though\n",
    "\n"
   ]
  },
  {
   "cell_type": "markdown",
   "metadata": {},
   "source": [
    "# Divisors Solutions\n",
    "\n",
    "Create a program that asks the user for a number and then prints out a list of all the divisors of that number. (If you don’t know what a divisor is, it is a number that divides evenly into another number. For example, 13 is a divisor of 26 because 26 / 13 has no remainder.)"
   ]
  },
  {
   "cell_type": "code",
   "execution_count": 6,
   "metadata": {},
   "outputs": [
    {
     "name": "stdout",
     "output_type": "stream",
     "text": [
      "Enter in a number:   120\n",
      "[1, 2, 3, 4, 5, 6, 8, 10, 12, 15, 20, 24, 30, 40, 60]\n"
     ]
    }
   ],
   "source": [
    "num = int(input(\"Enter in a number:   \"))\n",
    "\n",
    "divisors = []\n",
    "# could do num + 1 if want to include itself\n",
    "\n",
    "for i in range(1, num):\n",
    "    \n",
    "    if ((num % i) == 0):\n",
    "        \n",
    "        divisors.append(i)\n",
    "        \n",
    "        \n",
    "print(divisors)\n",
    "    \n",
    "    "
   ]
  },
  {
   "cell_type": "markdown",
   "metadata": {},
   "source": [
    "# Missing Character\n",
    "Given a non-empty string and an int n, return a new string where the char at index n has been removed. The value of n will be a valid index of a char in the original string (i.e. n will be in the range 0..len(str)-1 inclusive).\n",
    "\n",
    "```\n",
    "missing_char('kitten', 1) → 'ktten'\n",
    "missing_char('kitten', 0) → 'itten'\n",
    "missing_char('kitten', 4) → 'kittn'\n",
    "\n",
    "```"
   ]
  },
  {
   "cell_type": "code",
   "execution_count": 7,
   "metadata": {},
   "outputs": [
    {
     "name": "stdout",
     "output_type": "stream",
     "text": [
      "ktten\n",
      "itten\n",
      "kittn\n",
      "kitte\n",
      "kitten\n",
      "kittekitten\n"
     ]
    },
    {
     "data": {
      "text/plain": [
       "'kittekitten'"
      ]
     },
     "execution_count": 7,
     "metadata": {},
     "output_type": "execute_result"
    }
   ],
   "source": [
    "def missing_char(word, n):\n",
    "    \n",
    "    new_word = word[:n] + word[n+1:]\n",
    "    \n",
    "    print(new_word)\n",
    "    \n",
    "    return(new_word)\n",
    "\n",
    "\n",
    "\n",
    "\n",
    "\n",
    "missing_char('kitten', 1)\n",
    "missing_char('kitten', 0)\n",
    "missing_char('kitten', 4)\n",
    "missing_char('kitten', 5)\n",
    "\n",
    "missing_char('kitten', 10)\n",
    "# when given a number bigger than the length it leaves it alone\n",
    "\n",
    "missing_char('kitten', -1)\n",
    "\n",
    "# when given a negative index it does not work"
   ]
  },
  {
   "cell_type": "markdown",
   "metadata": {},
   "source": [
    "# Centered Average\n",
    "\n",
    "Return the \"centered\" average of an array of ints, which we'll say is the mean average of the values, except ignoring the largest and smallest values in the array. If there are multiple copies of the smallest value, ignore just one copy, and likewise for the largest value.  You may assume that the array is length 3 or more and will never contain negative values. \n",
    "* Round your answer to the nearest whole number.\n",
    "\n",
    "```\n",
    "centered_average([1, 2, 3, 4, 100]) → 3\n",
    "centered_average([1, 1, 5, 5, 10, 8, 7]) → 5\n",
    "```"
   ]
  },
  {
   "cell_type": "code",
   "execution_count": 8,
   "metadata": {},
   "outputs": [
    {
     "name": "stdout",
     "output_type": "stream",
     "text": [
      "3\n",
      "5\n"
     ]
    },
    {
     "data": {
      "text/plain": [
       "5"
      ]
     },
     "execution_count": 8,
     "metadata": {},
     "output_type": "execute_result"
    }
   ],
   "source": [
    "example_list = [100, 100, 50, 75, 50, 25, 25, 25]\n",
    "\n",
    "# we can sort this and then loop using a for loop going from 1 to len - 1\n",
    "\n",
    "\n",
    "\n",
    "def centered_average(given_list):\n",
    "    \n",
    "    given_list.sort()\n",
    "    \n",
    "    sum = 0\n",
    "    \n",
    "    for i in range(1, (len(given_list) - 1)):\n",
    "        \n",
    "        sum = sum + given_list[i]\n",
    "        \n",
    "        \n",
    "    average = sum//(len(given_list) - 2)\n",
    "    \n",
    "    print(average)\n",
    "    \n",
    "    return average\n",
    "\n",
    "\n",
    "\n",
    "\n",
    "        \n",
    "centered_average([1, 2, 3, 4, 100])\n",
    "centered_average([1, 1, 5, 5, 10, 8, 7])\n"
   ]
  },
  {
   "cell_type": "code",
   "execution_count": null,
   "metadata": {},
   "outputs": [],
   "source": []
  }
 ],
 "metadata": {
  "kernelspec": {
   "display_name": "Python 3",
   "language": "python",
   "name": "python3"
  },
  "language_info": {
   "codemirror_mode": {
    "name": "ipython",
    "version": 3
   },
   "file_extension": ".py",
   "mimetype": "text/x-python",
   "name": "python",
   "nbconvert_exporter": "python",
   "pygments_lexer": "ipython3",
   "version": "3.8.5"
  }
 },
 "nbformat": 4,
 "nbformat_minor": 4
}
